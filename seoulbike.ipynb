{
  "nbformat": 4,
  "nbformat_minor": 0,
  "metadata": {
    "colab": {
      "provenance": [],
      "authorship_tag": "ABX9TyMracpj/Ye2+y1Peg7DEoxj",
      "include_colab_link": true
    },
    "kernelspec": {
      "name": "python3",
      "display_name": "Python 3"
    },
    "language_info": {
      "name": "python"
    }
  },
  "cells": [
    {
      "cell_type": "markdown",
      "metadata": {
        "id": "view-in-github",
        "colab_type": "text"
      },
      "source": [
        "<a href=\"https://colab.research.google.com/github/Letmeloveyou522/Letmeloveyou522.github.io/blob/main/seoulbike.ipynb\" target=\"_parent\"><img src=\"https://colab.research.google.com/assets/colab-badge.svg\" alt=\"Open In Colab\"/></a>"
      ]
    },
    {
      "cell_type": "code",
      "execution_count": null,
      "metadata": {
        "id": "qm7U77mlMit7"
      },
      "outputs": [],
      "source": [
        "a={\n",
        "    \"rentBikeStatus\": {\n",
        "        \"list_total_count\": 5,\n",
        "        \"RESULT\": {\n",
        "            \"CODE\": \"INFO-000\",\n",
        "            \"MESSAGE\": \"정상 처리되었습니다.\"\n",
        "        },\n",
        "        \"row\": [\n",
        "            {\n",
        "                \"rackTotCnt\": \"15\",\n",
        "                \"stationName\": \"102. 망원역 1번출구 앞\",\n",
        "                \"parkingBikeTotCnt\": \"28\",\n",
        "                \"shared\": \"187\",\n",
        "                \"stationLatitude\": \"37.55564880\",\n",
        "                \"stationLongitude\": \"126.91062927\",\n",
        "                \"stationId\": \"ST-4\"\n",
        "            },\n",
        "            {\n",
        "                \"rackTotCnt\": \"14\",\n",
        "                \"stationName\": \"103. 망원역 2번출구 앞\",\n",
        "                \"parkingBikeTotCnt\": \"27\",\n",
        "                \"shared\": \"193\",\n",
        "                \"stationLatitude\": \"37.55495071\",\n",
        "                \"stationLongitude\": \"126.91083527\",\n",
        "                \"stationId\": \"ST-5\"\n",
        "            },\n",
        "            {\n",
        "                \"rackTotCnt\": \"13\",\n",
        "                \"stationName\": \"104. 합정역 1번출구 앞\",\n",
        "                \"parkingBikeTotCnt\": \"15\",\n",
        "                \"shared\": \"115\",\n",
        "                \"stationLatitude\": \"37.55073929\",\n",
        "                \"stationLongitude\": \"126.91508484\",\n",
        "                \"stationId\": \"ST-6\"\n",
        "            },\n",
        "            {\n",
        "                \"rackTotCnt\": \"5\",\n",
        "                \"stationName\": \"105. 합정역 5번출구 앞\",\n",
        "                \"parkingBikeTotCnt\": \"17\",\n",
        "                \"shared\": \"340\",\n",
        "                \"stationLatitude\": \"37.55000687\",\n",
        "                \"stationLongitude\": \"126.91482544\",\n",
        "                \"stationId\": \"ST-7\"\n",
        "            },\n",
        "            {\n",
        "                \"rackTotCnt\": \"12\",\n",
        "                \"stationName\": \"106. 합정역 7번출구 앞\",\n",
        "                \"parkingBikeTotCnt\": \"4\",\n",
        "                \"shared\": \"33\",\n",
        "                \"stationLatitude\": \"37.54864502\",\n",
        "                \"stationLongitude\": \"126.91282654\",\n",
        "                \"stationId\": \"ST-8\"\n",
        "            }\n",
        "        ]\n",
        "    }\n",
        "}"
      ]
    },
    {
      "cell_type": "code",
      "source": [
        "for x in a ['rentBikeStatus']['row']:\n",
        "  print('대여 장소 이름',':',x['stationName'],x['stationId'])\n"
      ],
      "metadata": {
        "colab": {
          "base_uri": "https://localhost:8080/"
        },
        "id": "bCMlgIPpR_Yn",
        "outputId": "8d68796e-838a-4548-f95d-a03f0d0a011f"
      },
      "execution_count": null,
      "outputs": [
        {
          "output_type": "stream",
          "name": "stdout",
          "text": [
            "대여 장소 이름 : 102. 망원역 1번출구 앞 ST-4\n",
            "대여 장소 이름 : 103. 망원역 2번출구 앞 ST-5\n",
            "대여 장소 이름 : 104. 합정역 1번출구 앞 ST-6\n",
            "대여 장소 이름 : 105. 합정역 5번출구 앞 ST-7\n",
            "대여 장소 이름 : 106. 합정역 7번출구 앞 ST-8\n"
          ]
        }
      ]
    }
  ]
}