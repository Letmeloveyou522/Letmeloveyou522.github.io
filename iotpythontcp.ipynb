{
  "nbformat": 4,
  "nbformat_minor": 0,
  "metadata": {
    "colab": {
      "provenance": [],
      "authorship_tag": "ABX9TyPHRQyp2R9qA6D145sbqSdD",
      "include_colab_link": true
    },
    "kernelspec": {
      "name": "python3",
      "display_name": "Python 3"
    },
    "language_info": {
      "name": "python"
    }
  },
  "cells": [
    {
      "cell_type": "markdown",
      "metadata": {
        "id": "view-in-github",
        "colab_type": "text"
      },
      "source": [
        "<a href=\"https://colab.research.google.com/github/Letmeloveyou522/Letmeloveyou522.github.io/blob/main/iotpythontcp.ipynb\" target=\"_parent\"><img src=\"https://colab.research.google.com/assets/colab-badge.svg\" alt=\"Open In Colab\"/></a>"
      ]
    },
    {
      "cell_type": "code",
      "execution_count": 3,
      "metadata": {
        "colab": {
          "base_uri": "https://localhost:8080/"
        },
        "id": "z3SIC_-nU-OC",
        "outputId": "c48ce6ad-7dc2-41e4-9c5c-18f64c621683"
      },
      "outputs": [
        {
          "output_type": "stream",
          "name": "stdout",
          "text": [
            "Received HTTP/1.1 505 HTTP Version Not Supported\r\n",
            "Date: Thu, 28 Mar 2024 04:36:48 GMT\r\n",
            "Connection: close\r\n",
            "Content-Type: text/html\r\n",
            "Content-Length: 182\r\n",
            "\r\n",
            "<!DOCTYPE HTML PUBLIC \"-//IETF//DTD HTML 2.0//EN\">\n",
            "<HTML><HEAD>\n",
            "<TITLE> 505 HTTP Version Not Supported </TITLE>\n",
            "</HEAD><BODY>\n",
            "<H1>HTTP Version Not Supported</H1>\n",
            "<HR>\n",
            "</BODY></HTML>\n",
            "\n"
          ]
        }
      ],
      "source": [
        "\n",
        "import socket\n",
        "\n",
        "HOST = \"203.255.161.161\" #ewha.ac.kr ip주소\n",
        "PORT = 80\n",
        "\n",
        "with socket.socket(socket.AF_INET, socket.SOCK_STREAM) as s:\n",
        "    s.connect((HOST, PORT))\n",
        "    s.sendall(b\"GET / HTTP/1.2\\n\\n\")\n",
        "    data = s.recv(1024)\n",
        "\n",
        "print(f\"Received {data.decode('utf-8')}\")\n"
      ]
    }
  ]
}