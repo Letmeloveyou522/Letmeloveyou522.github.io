{
  "nbformat": 4,
  "nbformat_minor": 0,
  "metadata": {
    "colab": {
      "provenance": [],
      "authorship_tag": "ABX9TyNdDq7V+aCTTgPt9uJK6eBN",
      "include_colab_link": true
    },
    "kernelspec": {
      "name": "python3",
      "display_name": "Python 3"
    },
    "language_info": {
      "name": "python"
    }
  },
  "cells": [
    {
      "cell_type": "markdown",
      "metadata": {
        "id": "view-in-github",
        "colab_type": "text"
      },
      "source": [
        "<a href=\"https://colab.research.google.com/github/Letmeloveyou522/Letmeloveyou522.github.io/blob/main/iot.ipynb\" target=\"_parent\"><img src=\"https://colab.research.google.com/assets/colab-badge.svg\" alt=\"Open In Colab\"/></a>"
      ]
    },
    {
      "cell_type": "markdown",
      "source": [],
      "metadata": {
        "id": "vfMCM6UbSHJ9"
      }
    },
    {
      "cell_type": "markdown",
      "source": [],
      "metadata": {
        "id": "sN2m2HlMSRfR"
      }
    },
    {
      "cell_type": "code",
      "execution_count": 1,
      "metadata": {
        "colab": {
          "base_uri": "https://localhost:8080/"
        },
        "id": "fY8hEKoQICWg",
        "outputId": "ab1476ee-6560-4604-b7b4-b895374b4c98"
      },
      "outputs": [
        {
          "output_type": "stream",
          "name": "stdout",
          "text": [
            "<?xml version=\"1.0\" encoding=\"UTF-8\" standalone=\"yes\"?><response><comMsgHeader/><msgHeader><queryTime>2024-03-16 22:14:38.447</queryTime><resultCode>0</resultCode><resultMessage>정상적으로 처리되었습니다.</resultMessage></msgHeader><msgBody><busLocationList><endBus>0</endBus><lowPlate>0</lowPlate><plateNo>경기75바3216</plateNo><plateType>3</plateType><remainSeatCnt>38</remainSeatCnt><routeId>224000052</routeId><stationId>116000016</stationId><stationSeq>45</stationSeq></busLocationList><busLocationList><endBus>0</endBus><lowPlate>0</lowPlate><plateNo>경기75바3156</plateNo><plateType>3</plateType><remainSeatCnt>38</remainSeatCnt><routeId>224000052</routeId><stationId>224000567</stationId><stationSeq>85</stationSeq></busLocationList><busLocationList><endBus>0</endBus><lowPlate>0</lowPlate><plateNo>경기75바3157</plateNo><plateType>3</plateType><remainSeatCnt>34</remainSeatCnt><routeId>224000052</routeId><stationId>224000867</stationId><stationSeq>18</stationSeq></busLocationList><busLocationList><endBus>0</endBus><lowPlate>0</lowPlate><plateNo>경기75바3217</plateNo><plateType>3</plateType><remainSeatCnt>35</remainSeatCnt><routeId>224000052</routeId><stationId>224001006</stationId><stationSeq>9</stationSeq></busLocationList><busLocationList><endBus>0</endBus><lowPlate>0</lowPlate><plateNo>경기75바3153</plateNo><plateType>3</plateType><remainSeatCnt>29</remainSeatCnt><routeId>224000052</routeId><stationId>277102228</stationId><stationSeq>70</stationSeq></busLocationList><busLocationList><endBus>0</endBus><lowPlate>0</lowPlate><plateNo>경기75바3215</plateNo><plateType>3</plateType><remainSeatCnt>24</remainSeatCnt><routeId>224000052</routeId><stationId>116000627</stationId><stationSeq>53</stationSeq></busLocationList><busLocationList><endBus>0</endBus><lowPlate>0</lowPlate><plateNo>경기75바3155</plateNo><plateType>3</plateType><remainSeatCnt>27</remainSeatCnt><routeId>224000052</routeId><stationId>116900306</stationId><stationSeq>37</stationSeq></busLocationList></msgBody></response>\n"
          ]
        }
      ],
      "source": [
        "import requests\n",
        "url='http://openapi.gbis.go.kr/ws/rest/buslocationservice?serviceKey=1234567890&routeId=224000052'\n",
        "r=requests.get(url)\n",
        "print(r.text)"
      ]
    },
    {
      "cell_type": "code",
      "source": [
        "from bs4 import BeautifulSoup\n",
        "soup=BeautifulSoup(r.text, features=\"xml\")"
      ],
      "metadata": {
        "id": "GD7Dy9-rZn0H"
      },
      "execution_count": 3,
      "outputs": []
    },
    {
      "cell_type": "code",
      "source": [
        "soup.find_all('stationld')"
      ],
      "metadata": {
        "colab": {
          "base_uri": "https://localhost:8080/"
        },
        "id": "2hLIIuLUaBtL",
        "outputId": "f8c0e5cf-b7d4-44c8-df71-eb83f5803280"
      },
      "execution_count": 4,
      "outputs": [
        {
          "output_type": "execute_result",
          "data": {
            "text/plain": [
              "[]"
            ]
          },
          "metadata": {},
          "execution_count": 4
        }
      ]
    },
    {
      "cell_type": "code",
      "source": [
        "print('학번=',2371086,'이름=','염혜선')"
      ],
      "metadata": {
        "colab": {
          "base_uri": "https://localhost:8080/"
        },
        "id": "k9eh4FakaTMh",
        "outputId": "279baa95-d763-4c0a-92e6-795e92fadf30"
      },
      "execution_count": 6,
      "outputs": [
        {
          "output_type": "stream",
          "name": "stdout",
          "text": [
            "학번= 2371086 이름= 염혜선\n"
          ]
        }
      ]
    }
  ]
}