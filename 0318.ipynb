{
  "nbformat": 4,
  "nbformat_minor": 0,
  "metadata": {
    "colab": {
      "provenance": [],
      "authorship_tag": "ABX9TyPkCrbFL5jGJ+O6lYFeRR3d",
      "include_colab_link": true
    },
    "kernelspec": {
      "name": "python3",
      "display_name": "Python 3"
    },
    "language_info": {
      "name": "python"
    }
  },
  "cells": [
    {
      "cell_type": "markdown",
      "metadata": {
        "id": "view-in-github",
        "colab_type": "text"
      },
      "source": [
        "<a href=\"https://colab.research.google.com/github/Letmeloveyou522/Letmeloveyou522.github.io/blob/main/0318.ipynb\" target=\"_parent\"><img src=\"https://colab.research.google.com/assets/colab-badge.svg\" alt=\"Open In Colab\"/></a>"
      ]
    },
    {
      "cell_type": "code",
      "execution_count": 12,
      "metadata": {
        "colab": {
          "base_uri": "https://localhost:8080/"
        },
        "id": "Zb9xQzakhfRH",
        "outputId": "338f5e35-a674-4e7d-fa4d-0994f8023723"
      },
      "outputs": [
        {
          "output_type": "stream",
          "name": "stdout",
          "text": [
            "b'<?xml version=\"1.0\" encoding=\"UTF-8\"?>\\r\\n<response>\\r\\n <header>\\r\\n  <resultCode>00</resultCode>\\r\\n  <resultMsg>NORMAL SERVICE</resultMsg>\\r\\n </header>\\r\\n <body>\\r\\n  <items>\\r\\n   <item>\\r\\n    <deathCnt>108</deathCnt>\\r\\n    <defCnt>15461</defCnt>\\r\\n    <gubun>\\xec\\xb6\\xa9\\xeb\\x82\\xa8</gubun>\\r\\n    <gubunCn>\\xe5\\xbf\\xa0\\xe5\\x8d\\x97</gubunCn>\\r\\n    <gubunEn>Chungcheongnam-do</gubunEn>\\r\\n    <incDec>210</incDec>\\r\\n    <isolClearCnt>13134</isolClearCnt>\\r\\n    <isolIngCnt>0</isolIngCnt>\\r\\n    <localOccCnt>209</localOccCnt>\\r\\n    <overFlowCnt>1</overFlowCnt>\\r\\n    <qurRate>729</qurRate>\\r\\n    <stdDay>2021-12-15</stdDay>\\r\\n   </item>\\r\\n   <item>\\r\\n    <deathCnt>29</deathCnt>\\r\\n    <defCnt>5275</defCnt>\\r\\n    <gubun>\\xec\\xa0\\x84\\xeb\\x82\\xa8</gubun>\\r\\n    <gubunCn>\\xe5\\x85\\xa8\\xe5\\x8d\\x97</gubunCn>\\r\\n    <gubunEn>Jeollanam-do</gubunEn>\\r\\n    <incDec>60</incDec>\\r\\n    <isolClearCnt>4386</isolClearCnt>\\r\\n    <isolIngCnt>0</isolIngCnt>\\r\\n    <localOccCnt>59</localOccCnt>\\r\\n    <overFlowCnt>1</overFlowCnt>\\r\\n    <qurRate>285</qurRate>\\r\\n    <stdDay>2021-12-15</stdDay>\\r\\n   </item>\\r\\n   <item>\\r\\n    <deathCnt>32</deathCnt>\\r\\n    <defCnt>6958</defCnt>\\r\\n    <gubun>\\xea\\xb4\\x91\\xec\\xa3\\xbc</gubun>\\r\\n    <gubunCn>\\xe5\\x85\\x89\\xe5\\xb7\\x9e</gubunCn>\\r\\n    <gubunEn>Gwangju</gubunEn>\\r\\n    <incDec>59</incDec>\\r\\n    <isolClearCnt>6449</isolClearCnt>\\r\\n    <isolIngCnt>0</isolIngCnt>\\r\\n    <localOccCnt>59</localOccCnt>\\r\\n    <overFlowCnt>0</overFlowCnt>\\r\\n    <qurRate>480</qurRate>\\r\\n    <stdDay>2021-12-15</stdDay>\\r\\n   </item>\\r\\n   <item>\\r\\n    <deathCnt>3</deathCnt>\\r\\n    <defCnt>1765</defCnt>\\r\\n    <gubun>\\xec\\x84\\xb8\\xec\\xa2\\x85</gubun>\\r\\n    <gubunCn>\\xe4\\xb8\\x96\\xe5\\xae\\x97</gubunCn>\\r\\n    <gubunEn>Sejong</gubunEn>\\r\\n    <incDec>26</incDec>\\r\\n    <isolClearCnt>1607</isolClearCnt>\\r\\n    <isolIngCnt>0</isolIngCnt>\\r\\n    <localOccCnt>26</localOccCnt>\\r\\n    <overFlowCnt>0</overFlowCnt>\\r\\n    <qurRate>496</qurRate>\\r\\n    <stdDay>2021-12-15</stdDay>\\r\\n   </item>\\r\\n   <item>\\r\\n    <deathCnt>338</deathCnt>\\r\\n    <defCnt>20849</defCnt>\\r\\n    <gubun>\\xeb\\x8c\\x80\\xea\\xb5\\xac</gubun>\\r\\n    <gubunCn>\\xe5\\xa4\\xa7\\xe9\\x82\\xb1</gubunCn>\\r\\n    <gubunEn>Daegu</gubunEn>\\r\\n    <incDec>178</incDec>\\r\\n    <isolClearCnt>19001</isolClearCnt>\\r\\n    <isolIngCnt>0</isolIngCnt>\\r\\n    <localOccCnt>177</localOccCnt>\\r\\n    <overFlowCnt>1</overFlowCnt>\\r\\n    <qurRate>862</qurRate>\\r\\n    <stdDay>2021-12-15</stdDay>\\r\\n   </item>\\r\\n   <item>\\r\\n    <deathCnt>98</deathCnt>\\r\\n    <defCnt>10001</defCnt>\\r\\n    <gubun>\\xec\\xb6\\xa9\\xeb\\xb6\\x81</gubun>\\r\\n    <gubunCn>\\xe5\\xbf\\xa0\\xe5\\x8c\\x97</gubunCn>\\r\\n    <gubunEn>Chungcheongbuk-do</gubunEn>\\r\\n    <incDec>105</incDec>\\r\\n    <isolClearCnt>9068</isolClearCnt>\\r\\n    <isolIngCnt>0</isolIngCnt>\\r\\n    <localOccCnt>105</localOccCnt>\\r\\n    <overFlowCnt>0</overFlowCnt>\\r\\n    <qurRate>625</qurRate>\\r\\n    <stdDay>2021-12-15</stdDay>\\r\\n   </item>\\r\\n   <item>\\r\\n    <deathCnt>4456</deathCnt>\\r\\n    <defCnt>536495</defCnt>\\r\\n    <gubun>\\xed\\x95\\xa9\\xea\\xb3\\x84</gubun>\\r\\n    <gubunCn>\\xe5\\x90\\x88\\xe8\\xae\\xa1</gubunCn>\\r\\n    <gubunEn>Total</gubunEn>\\r\\n    <incDec>7850</incDec>\\r\\n    <isolClearCnt>442293</isolClearCnt>\\r\\n    <isolIngCnt>0</isolIngCnt>\\r\\n    <localOccCnt>7828</localOccCnt>\\r\\n    <overFlowCnt>22</overFlowCnt>\\r\\n    <qurRate>1035</qurRate>\\r\\n    <stdDay>2021-12-15</stdDay>\\r\\n   </item>\\r\\n   <item>\\r\\n    <deathCnt>1472</deathCnt>\\r\\n    <defCnt>159481</defCnt>\\r\\n    <gubun>\\xea\\xb2\\xbd\\xea\\xb8\\xb0</gubun>\\r\\n    <gubunCn>\\xe4\\xba\\xac\\xe7\\x95\\xbf</gubunCn>\\r\\n    <gubunEn>Gyeonggi-do</gubunEn>\\r\\n    <incDec>2299</incDec>\\r\\n    <isolClearCnt>132485</isolClearCnt>\\r\\n    <isolIngCnt>0</isolIngCnt>\\r\\n    <localOccCnt>2296</localOccCnt>\\r\\n    <overFlowCnt>3</overFlowCnt>\\r\\n    <qurRate>1188</qurRate>\\r\\n    <stdDay>2021-12-15</stdDay>\\r\\n   </item>\\r\\n   <item>\\r\\n    <deathCnt>88</deathCnt>\\r\\n    <defCnt>10567</defCnt>\\r\\n    <gubun>\\xea\\xb0\\x95\\xec\\x9b\\x90</gubun>\\r\\n    <gubunCn>\\xe6\\xb1\\x9f\\xe5\\x8e\\x9f</gubunCn>\\r\\n    <gubunEn>Gangwon-do</gubunEn>\\r\\n    <incDec>160</incDec>\\r\\n    <isolClearCnt>8950</isolClearCnt>\\r\\n    <isolIngCnt>0</isolIngCnt>\\r\\n    <localOccCnt>160</localOccCnt>\\r\\n    <overFlowCnt>0</overFlowCnt>\\r\\n    <qurRate>685</qurRate>\\r\\n    <stdDay>2021-12-15</stdDay>\\r\\n   </item>\\r\\n   <item>\\r\\n    <deathCnt>87</deathCnt>\\r\\n    <defCnt>7623</defCnt>\\r\\n    <gubun>\\xec\\xa0\\x84\\xeb\\xb6\\x81</gubun>\\r\\n    <gubunCn>\\xe5\\x85\\xa8\\xe5\\x8c\\x97</gubunCn>\\r\\n    <gubunEn>Jeollabuk-do</gubunEn>\\r\\n    <incDec>120</incDec>\\r\\n    <isolClearCnt>6512</isolClearCnt>\\r\\n    <isolIngCnt>0</isolIngCnt>\\r\\n    <localOccCnt>120</localOccCnt>\\r\\n    <overFlowCnt>0</overFlowCnt>\\r\\n    <qurRate>423</qurRate>\\r\\n    <stdDay>2021-12-15</stdDay>\\r\\n   </item>\\r\\n   <item>\\r\\n    <deathCnt>210</deathCnt>\\r\\n    <defCnt>19702</defCnt>\\r\\n    <gubun>\\xeb\\xb6\\x80\\xec\\x82\\xb0</gubun>\\r\\n    <gubunCn>\\xe9\\x87\\x9c\\xe5\\xb1\\xb1</gubunCn>\\r\\n    <gubunEn>Busan</gubunEn>\\r\\n    <incDec>343</incDec>\\r\\n    <isolClearCnt>16306</isolClearCnt>\\r\\n    <isolIngCnt>0</isolIngCnt>\\r\\n    <localOccCnt>343</localOccCnt>\\r\\n    <overFlowCnt>0</overFlowCnt>\\r\\n    <qurRate>581</qurRate>\\r\\n    <stdDay>2021-12-15</stdDay>\\r\\n   </item>\\r\\n   <item>\\r\\n    <deathCnt>66</deathCnt>\\r\\n    <defCnt>17376</defCnt>\\r\\n    <gubun>\\xea\\xb2\\xbd\\xeb\\x82\\xa8</gubun>\\r\\n    <gubunCn>\\xe5\\xba\\x86\\xe5\\x8d\\x97</gubunCn>\\r\\n    <gubunEn>Gyeongsangnam-do</gubunEn>\\r\\n    <incDec>195</incDec>\\r\\n    <isolClearCnt>15437</isolClearCnt>\\r\\n    <isolIngCnt>0</isolIngCnt>\\r\\n    <localOccCnt>194</localOccCnt>\\r\\n    <overFlowCnt>1</overFlowCnt>\\r\\n    <qurRate>520</qurRate>\\r\\n    <stdDay>2021-12-15</stdDay>\\r\\n   </item>\\r\\n   <item>\\r\\n    <deathCnt>127</deathCnt>\\r\\n    <defCnt>13316</defCnt>\\r\\n    <gubun>\\xea\\xb2\\xbd\\xeb\\xb6\\x81</gubun>\\r\\n    <gubunCn>\\xe5\\xba\\x86\\xe5\\x8c\\x97</gubunCn>\\r\\n    <gubunEn>Gyeongsangbuk-do</gubunEn>\\r\\n    <incDec>193</incDec>\\r\\n    <isolClearCnt>11405</isolClearCnt>\\r\\n    <isolIngCnt>0</isolIngCnt>\\r\\n    <localOccCnt>193</localOccCnt>\\r\\n    <overFlowCnt>0</overFlowCnt>\\r\\n    <qurRate>505</qurRate>\\r\\n    <stdDay>2021-12-15</stdDay>\\r\\n   </item>\\r\\n   <item>\\r\\n    <deathCnt>195</deathCnt>\\r\\n    <defCnt>30311</defCnt>\\r\\n    <gubun>\\xec\\x9d\\xb8\\xec\\xb2\\x9c</gubun>\\r\\n    <gubunCn>\\xe4\\xbb\\x81\\xe5\\xb7\\x9d</gubunCn>\\r\\n    <gubunEn>Incheon</gubunEn>\\r\\n    <incDec>476</incDec>\\r\\n    <isolClearCnt>24930</isolClearCnt>\\r\\n    <isolIngCnt>0</isolIngCnt>\\r\\n    <localOccCnt>475</localOccCnt>\\r\\n    <overFlowCnt>1</overFlowCnt>\\r\\n    <qurRate>1030</qurRate>\\r\\n    <stdDay>2021-12-15</stdDay>\\r\\n   </item>\\r\\n   <item>\\r\\n    <deathCnt>16</deathCnt>\\r\\n    <defCnt>6560</defCnt>\\r\\n    <gubun>\\xea\\xb2\\x80\\xec\\x97\\xad</gubun>\\r\\n    <gubunCn>\\xe9\\x9a\\x94\\xe9\\x9b\\xa2\\xe5\\x8d\\x80</gubunCn>\\r\\n    <gubunEn>Lazaretto</gubunEn>\\r\\n    <incDec>4</incDec>\\r\\n    <isolClearCnt>6369</isolClearCnt>\\r\\n    <isolIngCnt>0</isolIngCnt>\\r\\n    <localOccCnt>0</localOccCnt>\\r\\n    <overFlowCnt>4</overFlowCnt>\\r\\n    <qurRate>-</qurRate>\\r\\n    <stdDay>2021-12-15</stdDay>\\r\\n   </item>\\r\\n   <item>\\r\\n    <deathCnt>59</deathCnt>\\r\\n    <defCnt>6132</defCnt>\\r\\n    <gubun>\\xec\\x9a\\xb8\\xec\\x82\\xb0</gubun>\\r\\n    <gubunCn>\\xe8\\x94\\x9a\\xe5\\xb1\\xb1</gubunCn>\\r\\n    <gubunEn>Ulsan</gubunEn>\\r\\n    <incDec>59</incDec>\\r\\n    <isolClearCnt>5667</isolClearCnt>\\r\\n    <isolIngCnt>0</isolIngCnt>\\r\\n    <localOccCnt>59</localOccCnt>\\r\\n    <overFlowCnt>0</overFlowCnt>\\r\\n    <qurRate>540</qurRate>\\r\\n    <stdDay>2021-12-15</stdDay>\\r\\n   </item>\\r\\n   <item>\\r\\n    <deathCnt>1418</deathCnt>\\r\\n    <defCnt>190332</defCnt>\\r\\n    <gubun>\\xec\\x84\\x9c\\xec\\x9a\\xb8</gubun>\\r\\n    <gubunCn>\\xe9\\xa6\\x96\\xe5\\xb0\\x94</gubunCn>\\r\\n    <gubunEn>Seoul</gubunEn>\\r\\n    <incDec>3166</incDec>\\r\\n    <isolClearCnt>148142</isolClearCnt>\\r\\n    <isolIngCnt>0</isolIngCnt>\\r\\n    <localOccCnt>3157</localOccCnt>\\r\\n    <overFlowCnt>9</overFlowCnt>\\r\\n    <qurRate>1969</qurRate>\\r\\n    <stdDay>2021-12-15</stdDay>\\r\\n   </item>\\r\\n   <item>\\r\\n    <deathCnt>10</deathCnt>\\r\\n    <defCnt>4252</defCnt>\\r\\n    <gubun>\\xec\\xa0\\x9c\\xec\\xa3\\xbc</gubun>\\r\\n    <gubunCn>\\xe6\\xb5\\x8e\\xe5\\xb7\\x9e</gubunCn>\\r\\n    <gubunEn>Jeju</gubunEn>\\r\\n    <incDec>33</incDec>\\r\\n    <isolClearCnt>3805</isolClearCnt>\\r\\n    <isolIngCnt>0</isolIngCnt>\\r\\n    <localOccCnt>32</localOccCnt>\\r\\n    <overFlowCnt>1</overFlowCnt>\\r\\n    <qurRate>630</qurRate>\\r\\n    <stdDay>2021-12-15</stdDay>\\r\\n   </item>\\r\\n   <item>\\r\\n    <deathCnt>100</deathCnt>\\r\\n    <defCnt>10534</defCnt>\\r\\n    <gubun>\\xeb\\x8c\\x80\\xec\\xa0\\x84</gubun>\\r\\n    <gubunCn>\\xe5\\xa4\\xa7\\xe7\\x94\\xb0</gubunCn>\\r\\n    <gubunEn>Daejeon</gubunEn>\\r\\n    <incDec>164</incDec>\\r\\n    <isolClearCnt>8640</isolClearCnt>\\r\\n    <isolIngCnt>0</isolIngCnt>\\r\\n    <localOccCnt>164</localOccCnt>\\r\\n    <overFlowCnt>0</overFlowCnt>\\r\\n    <qurRate>720</qurRate>\\r\\n    <stdDay>2021-12-15</stdDay>\\r\\n   </item>\\r\\n  </items>\\r\\n  <numOfRows>500</numOfRows>\\r\\n  <pageNo>1</pageNo>\\r\\n  <totalCount>19</totalCount>\\r\\n </body>\\r\\n</response>\\r\\n\\r\\n'\n"
          ]
        }
      ],
      "source": [
        "import requests\n",
        "\n",
        "url = 'http://apis.data.go.kr/1352000/ODMS_COVID_04/callCovid04Api'\n",
        "params ={'serviceKey' : 'oeNV+kzOC8KF6G+EVuj/z9E9Yd7QiVEjTUn28XusQl53tBbGrFGUQf57JPJhRycTV0spS7i7BkhSTBHfGZRveQ==', 'pageNo' : '1', 'numOfRows' : '500', 'apiType' : 'xml', 'std_day' : '2021-12-15' }\n",
        "\n",
        "response = requests.get(url, params=params)\n",
        "print(response.content)"
      ]
    },
    {
      "cell_type": "code",
      "source": [
        "from bs4 import BeautifulSoup\n",
        "\n",
        "soup=BeautifulSoup(response.text, features=\"xml\")\n",
        "\n",
        "soup.find_all('gubun')"
      ],
      "metadata": {
        "colab": {
          "base_uri": "https://localhost:8080/"
        },
        "id": "h2xtmefZhwfh",
        "outputId": "02e99565-9a8b-4821-8062-87fdfc6f5458"
      },
      "execution_count": 13,
      "outputs": [
        {
          "output_type": "execute_result",
          "data": {
            "text/plain": [
              "[<gubun>충남</gubun>,\n",
              " <gubun>전남</gubun>,\n",
              " <gubun>광주</gubun>,\n",
              " <gubun>세종</gubun>,\n",
              " <gubun>대구</gubun>,\n",
              " <gubun>충북</gubun>,\n",
              " <gubun>합계</gubun>,\n",
              " <gubun>경기</gubun>,\n",
              " <gubun>강원</gubun>,\n",
              " <gubun>전북</gubun>,\n",
              " <gubun>부산</gubun>,\n",
              " <gubun>경남</gubun>,\n",
              " <gubun>경북</gubun>,\n",
              " <gubun>인천</gubun>,\n",
              " <gubun>검역</gubun>,\n",
              " <gubun>울산</gubun>,\n",
              " <gubun>서울</gubun>,\n",
              " <gubun>제주</gubun>,\n",
              " <gubun>대전</gubun>]"
            ]
          },
          "metadata": {},
          "execution_count": 13
        }
      ]
    }
  ]
}